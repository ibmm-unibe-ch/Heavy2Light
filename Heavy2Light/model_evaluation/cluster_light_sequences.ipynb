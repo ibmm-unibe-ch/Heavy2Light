{
 "cells": [
  {
   "cell_type": "code",
   "execution_count": 2,
   "id": "fa842596",
   "metadata": {},
   "outputs": [],
   "source": [
    "import pandas as pd\n"
   ]
  },
  {
   "cell_type": "code",
   "execution_count": 3,
   "id": "4b65354d",
   "metadata": {},
   "outputs": [
    {
     "name": "stdout",
     "output_type": "stream",
     "text": [
      "FASTA file created with 1794739 unique sequences\n",
      "Removed 151361 duplicate sequences\n"
     ]
    }
   ],
   "source": [
    "\n",
    "# Read the CSV file\n",
    "df = pd.read_csv('/ibmm_data2/oas_database/paired_lea_tmp/paired_model/BERT2GPT/kappa_only_translation_balanced_v_gene_families/data/full_paired_extraction_kappa_translation_only_header.csv')\n",
    "\n",
    "# 1. Remove duplicates based on sequence_alignment_heavy_sep_light column\n",
    "df_unique = df.drop_duplicates(subset=['sequence_alignment_heavy_sep_light'])\n",
    "\n",
    "# 2. Create a FASTA file\n",
    "with open('/ibmm_data2/oas_database/paired_lea_tmp/paired_model/check_pairings_gen_sequences/data/full_paired_oas_no_dupl_light_seqs.fasta', 'w') as fasta_file:\n",
    "    for _, row in df_unique.iterrows():\n",
    "        # Create the identifier by combining multiple columns with underscores\n",
    "        identifier = f\">{row['BType']}_{row['locus_light']}_{row['v_call_heavy']}_{row['v_call_light']}_{row['j_call_heavy']}_{row['j_call_light']}_{row['sequence_alignment_heavy_sep_light']}\"\n",
    "        \n",
    "        # Get the light chain sequence\n",
    "        sequence = row['sequence_alignment_aa_light']\n",
    "        \n",
    "        # Write to FASTA file\n",
    "        fasta_file.write(f\"{identifier}\\n\")\n",
    "        fasta_file.write(f\"{sequence}\\n\")\n",
    "\n",
    "print(f\"FASTA file created with {len(df_unique)} unique sequences\")\n",
    "print(f\"Removed {len(df) - len(df_unique)} duplicate sequences\")"
   ]
  },
  {
   "cell_type": "code",
   "execution_count": null,
   "id": "8d31511e",
   "metadata": {},
   "outputs": [],
   "source": []
  }
 ],
 "metadata": {
  "kernelspec": {
   "display_name": "adap_2",
   "language": "python",
   "name": "python3"
  },
  "language_info": {
   "codemirror_mode": {
    "name": "ipython",
    "version": 3
   },
   "file_extension": ".py",
   "mimetype": "text/x-python",
   "name": "python",
   "nbconvert_exporter": "python",
   "pygments_lexer": "ipython3",
   "version": "3.9.19"
  }
 },
 "nbformat": 4,
 "nbformat_minor": 5
}
