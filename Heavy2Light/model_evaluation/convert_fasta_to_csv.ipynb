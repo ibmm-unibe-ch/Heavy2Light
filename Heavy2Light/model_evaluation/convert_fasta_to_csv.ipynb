{
 "cells": [
  {
   "cell_type": "code",
   "execution_count": 1,
   "id": "05b8b7a2",
   "metadata": {},
   "outputs": [],
   "source": [
    "import csv\n",
    "import re"
   ]
  },
  {
   "cell_type": "code",
   "execution_count": 2,
   "id": "ed22938f",
   "metadata": {},
   "outputs": [],
   "source": [
    "def fasta_to_csv(input_fasta, output_full_csv, output_heavy_sep_light_csv):\n",
    "    # Initialize variables\n",
    "    headers_full = [\"BType\", \"light_locus\", \"v_gene_heavy\", \"v_gene_light\", \n",
    "                   \"j_gene_heavy\", \"j_gene_light\", \"heavy_sep_light\", \"light_seq\"]\n",
    "    headers_sep = [\"heavy_sep_light\"]\n",
    "    csv_rows_full = []\n",
    "    csv_rows_sep = []\n",
    "    current_header = \"\"\n",
    "    current_sequence = \"\"\n",
    "    \n",
    "    # Read the FASTA file\n",
    "    with open(input_fasta, 'r') as fasta_file:\n",
    "        for line in fasta_file:\n",
    "            line = line.strip()\n",
    "            if line.startswith('>'):\n",
    "                # Process the previous entry if it exists\n",
    "                if current_header and current_sequence:\n",
    "                    # Parse the header to extract information\n",
    "                    header_parts = current_header[1:].split('_')\n",
    "                    btype = header_parts[0]\n",
    "                    light_locus = header_parts[1]\n",
    "                    v_gene_heavy = header_parts[2]\n",
    "                    v_gene_light = header_parts[3]\n",
    "                    j_gene_heavy = header_parts[4]\n",
    "                    j_gene_light = header_parts[5]\n",
    "                    \n",
    "                    # Get heavy_sep_light (everything after the 6th underscore)\n",
    "                    heavy_sep_light = '_'.join(header_parts[6:])\n",
    "                    \n",
    "                    # Add row to our full data\n",
    "                    csv_rows_full.append([\n",
    "                        btype, \n",
    "                        light_locus, \n",
    "                        v_gene_heavy, \n",
    "                        v_gene_light, \n",
    "                        j_gene_heavy, \n",
    "                        j_gene_light, \n",
    "                        heavy_sep_light, \n",
    "                        current_sequence\n",
    "                    ])\n",
    "                    \n",
    "                    # Add row to our heavy_sep_light only data\n",
    "                    csv_rows_sep.append([heavy_sep_light])\n",
    "                \n",
    "                # Start a new entry\n",
    "                current_header = line\n",
    "                current_sequence = \"\"\n",
    "            else:\n",
    "                # Append to the current sequence\n",
    "                current_sequence += line\n",
    "        \n",
    "        # Don't forget to process the last entry\n",
    "        if current_header and current_sequence:\n",
    "            header_parts = current_header[1:].split('_')\n",
    "            btype = header_parts[0]\n",
    "            light_locus = header_parts[1]\n",
    "            v_gene_heavy = header_parts[2]\n",
    "            v_gene_light = header_parts[3]\n",
    "            j_gene_heavy = header_parts[4]\n",
    "            j_gene_light = header_parts[5]\n",
    "            heavy_sep_light = '_'.join(header_parts[6:])\n",
    "            \n",
    "            csv_rows_full.append([\n",
    "                btype, \n",
    "                light_locus, \n",
    "                v_gene_heavy, \n",
    "                v_gene_light, \n",
    "                j_gene_heavy, \n",
    "                j_gene_light, \n",
    "                heavy_sep_light, \n",
    "                current_sequence\n",
    "            ])\n",
    "            \n",
    "            csv_rows_sep.append([heavy_sep_light])\n",
    "    \n",
    "    # Write to full CSV\n",
    "    with open(output_full_csv, 'w', newline='') as csv_file:\n",
    "        writer = csv.writer(csv_file)\n",
    "        writer.writerow(headers_full)\n",
    "        writer.writerows(csv_rows_full)\n",
    "    \n",
    "    # Write to heavy_sep_light only CSV\n",
    "    with open(output_heavy_sep_light_csv, 'w', newline='') as csv_file:\n",
    "        writer = csv.writer(csv_file)\n",
    "        writer.writerow(headers_sep)\n",
    "        writer.writerows(csv_rows_sep)\n",
    "    \n",
    "    print(f\"Converted {len(csv_rows_full)} sequences from FASTA to CSV.\")\n",
    "    print(f\"Created heavy_sep_light CSV with {len(csv_rows_sep)} rows.\")\n"
   ]
  },
  {
   "cell_type": "code",
   "execution_count": 3,
   "id": "1b534d4f",
   "metadata": {},
   "outputs": [],
   "source": [
    "pident = 90\n",
    "\n",
    "input_dir = f\"/ibmm_data2/oas_database/paired_lea_tmp/paired_model/check_pairings_gen_sequences/clustered_light_seqs_datasets/full_paired_oas_no_dupl_light_seqs_90_clu_rep_70_alloc/\"\n",
    "\n"
   ]
  },
  {
   "cell_type": "code",
   "execution_count": 4,
   "id": "49aa6c21",
   "metadata": {},
   "outputs": [
    {
     "name": "stdout",
     "output_type": "stream",
     "text": [
      "Converted 396984 sequences from FASTA to CSV.\n",
      "Created heavy_sep_light CSV with 396984 rows.\n",
      "Converted 49623 sequences from FASTA to CSV.\n",
      "Created heavy_sep_light CSV with 49623 rows.\n",
      "Converted 49623 sequences from FASTA to CSV.\n",
      "Created heavy_sep_light CSV with 49623 rows.\n"
     ]
    }
   ],
   "source": [
    "for file in [\n",
    "    f\"full_paired_oas_no_dupl_light_seqs_{pident}_clu_rep_70_alloc_train.txt\",\n",
    "    f\"full_paired_oas_no_dupl_light_seqs_{pident}_clu_rep_70_alloc_test.txt\",\n",
    "    f\"full_paired_oas_no_dupl_light_seqs_{pident}_clu_rep_70_alloc_val.txt\"\n",
    "]:\n",
    "    input_fasta = f\"{input_dir}{file}\"\n",
    "    output_full_csv = f\"{input_dir}{file.replace('.txt', '_full.csv')}\"\n",
    "    output_heavy_sep_light_csv = f\"{input_dir}{file.replace('.txt', '_heavy_sep_light.csv')}\"\n",
    "    \n",
    "    fasta_to_csv(input_fasta, output_full_csv, output_heavy_sep_light_csv)"
   ]
  },
  {
   "cell_type": "code",
   "execution_count": null,
   "id": "2efee43a",
   "metadata": {},
   "outputs": [],
   "source": []
  }
 ],
 "metadata": {
  "kernelspec": {
   "display_name": "adap_2",
   "language": "python",
   "name": "python3"
  },
  "language_info": {
   "codemirror_mode": {
    "name": "ipython",
    "version": 3
   },
   "file_extension": ".py",
   "mimetype": "text/x-python",
   "name": "python",
   "nbconvert_exporter": "python",
   "pygments_lexer": "ipython3",
   "version": "3.9.19"
  }
 },
 "nbformat": 4,
 "nbformat_minor": 5
}
