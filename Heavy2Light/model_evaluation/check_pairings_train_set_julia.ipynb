{
 "cells": [
  {
   "cell_type": "code",
   "execution_count": 1,
   "id": "661121a0",
   "metadata": {},
   "outputs": [
    {
     "name": "stdout",
     "output_type": "stream",
     "text": [
      "Total sequences in CSV: 58839\n",
      "Alignment matches: 15768 (26.8%)\n",
      "Generated matches: 50787 (86.32%)\n"
     ]
    }
   ],
   "source": [
    "using CSV\n",
    "using DataFrames\n",
    "\n",
    "# Read the CSV file\n",
    "df = CSV.read(\"/ibmm_data2/oas_database/paired_lea_tmp/paired_model/peak_analysis/bert2bert/data/global_align_heavy_seq_input_PLAbDab_human_healthy_full_diverse_beam_search_5_temp_0.2_max_length_150_early_stopping_true_batch_size_64_epochs_50_lr_0.0001_wd_0.1.csv\", DataFrame)\n",
    "\n",
    "# Read the TXT file and extract light chain sequences\n",
    "light_chain_sequences = String[]\n",
    "open(\"/ibmm_data2/oas_database/paired_lea_tmp/paired_model/BERT2BERT/new_data/PLAbDab_db/train_val_test_datasets/plabdab_human_healthy_no_vac_allocated_train_no_identifiers.txt\", \"r\") do file\n",
    "    for line in eachline(file)\n",
    "        if contains(line, \"[SEP]\")\n",
    "            # Extract the light chain part (after [SEP])\n",
    "            parts = split(line, \"[SEP]\")\n",
    "            if length(parts) >= 2\n",
    "                light_chain = parts[2]\n",
    "                push!(light_chain_sequences, light_chain)\n",
    "            end\n",
    "        end\n",
    "    end\n",
    "end\n",
    "\n",
    "# Count how many sequences match\n",
    "alignment_matches = 0\n",
    "generated_matches = 0\n",
    "total_sequences = nrow(df)\n",
    "\n",
    "for row in eachrow(df)\n",
    "    alignment_seq = row.sequence_alignment_aa_light\n",
    "    generated_seq = row.generated_sequence_light\n",
    "    \n",
    "    if alignment_seq in light_chain_sequences\n",
    "        alignment_matches += 1\n",
    "    end\n",
    "    \n",
    "    if generated_seq in light_chain_sequences\n",
    "        generated_matches += 1\n",
    "    end\n",
    "end\n",
    "\n",
    "# Calculate percentages\n",
    "alignment_percentage = (alignment_matches / total_sequences) * 100\n",
    "generated_percentage = (generated_matches / total_sequences) * 100\n",
    "\n",
    "# Print results\n",
    "println(\"Total sequences in CSV: $total_sequences\")\n",
    "println(\"Alignment matches: $alignment_matches ($(round(alignment_percentage, digits=2))%)\")\n",
    "println(\"Generated matches: $generated_matches ($(round(generated_percentage, digits=2))%)\")"
   ]
  },
  {
   "cell_type": "code",
   "execution_count": 2,
   "id": "b46e8cde",
   "metadata": {},
   "outputs": [
    {
     "name": "stdout",
     "output_type": "stream",
     "text": [
      "Total sequences in CSV: 58839\n",
      "Alignment matches: 58839 (100.0%)\n",
      "Generated matches: 47920 (81.44%)\n"
     ]
    }
   ],
   "source": [
    "\n",
    "\n",
    "using CSV\n",
    "using DataFrames\n",
    "\n",
    "# Read the CSV file\n",
    "df = CSV.read(\"/ibmm_data2/oas_database/paired_lea_tmp/paired_model/peak_analysis/bert2bert/data/global_align_heavy_seq_input_PLAbDab_human_healthy_full_diverse_beam_search_5_temp_0.2_max_length_150_early_stopping_true_batch_size_64_epochs_50_lr_0.0001_wd_0.1.csv\", DataFrame)\n",
    "\n",
    "# Read the TXT file and extract light chain sequences\n",
    "light_chain_sequences = String[]\n",
    "open(\"/ibmm_data2/oas_database/paired_lea_tmp/paired_model/BERT2BERT/new_data/PLAbDab_db/train_val_test_datasets/plabdab_human_healthy_no_vac_allocated_test_no_identifiers.txt\", \"r\") do file\n",
    "    for line in eachline(file)\n",
    "        if contains(line, \"[SEP]\")\n",
    "            # Extract the light chain part (after [SEP])\n",
    "            parts = split(line, \"[SEP]\")\n",
    "            if length(parts) >= 2\n",
    "                light_chain = parts[2]\n",
    "                push!(light_chain_sequences, light_chain)\n",
    "            end\n",
    "        end\n",
    "    end\n",
    "end\n",
    "\n",
    "# Count how many sequences match\n",
    "alignment_matches = 0\n",
    "generated_matches = 0\n",
    "total_sequences = nrow(df)\n",
    "\n",
    "for row in eachrow(df)\n",
    "    alignment_seq = row.sequence_alignment_aa_light\n",
    "    generated_seq = row.generated_sequence_light\n",
    "    \n",
    "    if alignment_seq in light_chain_sequences\n",
    "        alignment_matches += 1\n",
    "    end\n",
    "    \n",
    "    if generated_seq in light_chain_sequences\n",
    "        generated_matches += 1\n",
    "    end\n",
    "end\n",
    "\n",
    "# Calculate percentages\n",
    "alignment_percentage = (alignment_matches / total_sequences) * 100\n",
    "generated_percentage = (generated_matches / total_sequences) * 100\n",
    "\n",
    "# Print results\n",
    "println(\"Total sequences in CSV: $total_sequences\")\n",
    "println(\"Alignment matches: $alignment_matches ($(round(alignment_percentage, digits=2))%)\")\n",
    "println(\"Generated matches: $generated_matches ($(round(generated_percentage, digits=2))%)\")"
   ]
  },
  {
   "cell_type": "code",
   "execution_count": null,
   "id": "1f8e2b5a",
   "metadata": {},
   "outputs": [],
   "source": []
  }
 ],
 "metadata": {
  "kernelspec": {
   "display_name": "Julia 1.10.2",
   "language": "julia",
   "name": "julia-1.10"
  },
  "language_info": {
   "file_extension": ".jl",
   "mimetype": "application/julia",
   "name": "julia",
   "version": "1.10.2"
  }
 },
 "nbformat": 4,
 "nbformat_minor": 5
}
